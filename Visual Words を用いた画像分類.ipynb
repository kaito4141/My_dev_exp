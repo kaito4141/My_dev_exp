{
  "nbformat": 4,
  "nbformat_minor": 0,
  "metadata": {
    "colab": {
      "provenance": []
    },
    "kernelspec": {
      "name": "python3",
      "display_name": "Python 3"
    },
    "language_info": {
      "name": "python"
    }
  },
  "cells": [
    {
      "cell_type": "code",
      "execution_count": 37,
      "metadata": {
        "colab": {
          "base_uri": "https://localhost:8080/"
        },
        "id": "qxWNcDyYzDTJ",
        "outputId": "7f8cfa04-d99f-4602-e77d-0062817c0c60"
      },
      "outputs": [
        {
          "output_type": "stream",
          "name": "stdout",
          "text": [
            "Drive already mounted at /content/drive; to attempt to forcibly remount, call drive.mount(\"/content/drive\", force_remount=True).\n"
          ]
        }
      ],
      "source": [
        "from google.colab import drive\n",
        "drive.mount('/content/drive')\n",
        "import cv2\n",
        "import matplotlib.pyplot as plt\n",
        "import numpy as np\n",
        "from mpl_toolkits.axes_grid1 import ImageGrid\n",
        "%matplotlib inline\n",
        "import math\n",
        "\n",
        "\n"
      ]
    },
    {
      "cell_type": "code",
      "source": [
        "import os\n",
        "import pandas as pd\n",
        "\n",
        "dataset = []\n",
        "\n",
        "for i in range(50):\n",
        "  dataset.append([0,f'/content/drive/MyDrive/pro/img/train/dog/dog.{i}.jpg'])\n",
        "for i in range(50):\n",
        "  dataset.append([1,f'/content/drive/MyDrive/pro/img/train/cat/cat.{i}.jpg'])\n"
      ],
      "metadata": {
        "id": "DFoX4BCszD9u"
      },
      "execution_count": 38,
      "outputs": []
    },
    {
      "cell_type": "code",
      "source": [
        "import cv2\n",
        "\n",
        "import numpy as np\n",
        "\n",
        "# 辞書サイズ(2なのは犬・猫の2種類に分類するモデルであるため)\n",
        "\n",
        "dictionarySize = 2\n",
        "\n",
        "# KAZE特徴量抽出器\n",
        "\n",
        "detector = cv2.KAZE_create()\n",
        "bf = cv2.BFMatcher(cv2.NORM_L2,False)\n",
        "# Bag Of Visual Words分類器\n",
        "\n",
        "bowTrainer = cv2.BOWKMeansTrainer(dictionarySize)\n",
        "\n",
        "# 各画像を分析\n",
        "\n",
        "for i, (classId, data_path) in enumerate(dataset):\n",
        "    # 進捗表示\n",
        "\n",
        "    # print(classId, data_path)\n",
        "\n",
        "    # グレースケールで画像読み込み\n",
        "\n",
        "    gray = cv2.imread(data_path, 1)\n",
        "\n",
        "    gray = cv2.resize(gray, dsize=(300, 300))\n",
        "\n",
        "    # 特徴点とその特徴を計算\n",
        "\n",
        "    keypoints, descriptors= detector.detectAndCompute(gray, None)\n",
        "\n",
        "    # intからfloat32に変換\n",
        "    if descriptors is not None:\n",
        "        descriptors = descriptors.astype(np.float32)\n",
        "        # 特徴ベクトルをBag Of Visual Words分類器にセット\n",
        "\n",
        "        bowTrainer.add(descriptors)\n",
        "\n",
        "\n",
        "# Bag Of Visual Words分類器で特徴ベクトルを分類\n",
        "\n",
        "codebook = bowTrainer.cluster()\n",
        "\n",
        "# 訓練完了\n",
        "\n",
        "print(\"train finish\")\n"
      ],
      "metadata": {
        "id": "2S6rd7-0zD_9"
      },
      "execution_count": null,
      "outputs": []
    },
    {
      "cell_type": "code",
      "source": [
        "result_index=[]\n",
        "def kaze_train(img):\n",
        "  matcher = cv2.BFMatcher()\n",
        "\n",
        "  # Bag Of Visual Words抽出器\n",
        "  bowExtractor = cv2.BOWImgDescriptorExtractor(detector, matcher)\n",
        "  # トレーニング結果をセット\n",
        "  bowExtractor.setVocabulary(codebook)\n",
        "  # グレースケールで読み込み\n",
        "  gray = cv2.imread(img,cv2.IMREAD_GRAYSCALE)\n",
        "\n",
        "  # 画像をリサイズする\n",
        "  gray = cv2.resize(gray, dsize=(300, 300))\n",
        "\n",
        "  # 特徴点と特徴ベクトルを計算\n",
        "  keypoints, descriptors= detector.detectAndCompute(gray, None)\n",
        "  if descriptors is not None:\n",
        "      # intからfloat32に変換\n",
        "      descriptors = descriptors.astype(np.float32)\n",
        "      # Bag Of Visual Wordsの計算\n",
        "      bowDescriptors = bowExtractor.compute(gray, keypoints)\n",
        "      className = {\"0\": \"犬\", \"1\": \"猫\"}\n",
        "      actual = \"???\"\n",
        "    # 分類確率が最大のインデックスを特定\n",
        "      max_index = np.argmax(bowDescriptors[0])\n",
        "      print(className[f\"{max_index}\"])\n",
        "      result_index.append(max_index)\n",
        "  else:\n",
        "      print('fail')"
      ],
      "metadata": {
        "id": "yXiZgCuKzECt"
      },
      "execution_count": null,
      "outputs": []
    },
    {
      "cell_type": "code",
      "source": [
        "\n",
        "for i in range(30):\n",
        "  kaze_train(f'/content/drive/MyDrive/pro/img/test/test.{i}.jpg')\n",
        "seikai=[]\n",
        "fuseikai=[]\n",
        "\n",
        "for i,j in enumerate(result_index):\n",
        "  if i <15:\n",
        "    if j==0:\n",
        "      seikai.append(1)\n",
        "    else:\n",
        "      fuseikai.append(i)\n",
        "  if i >=15:\n",
        "    if j==1:\n",
        "      seikai.append(1)\n",
        "    else:\n",
        "      fuseikai.append(i)\n",
        "\n",
        "print(f\"正解率：{len(seikai)/(len(seikai)+len(fuseikai))*100}\")"
      ],
      "metadata": {
        "id": "num0uzfuzEGH"
      },
      "execution_count": null,
      "outputs": []
    },
    {
      "cell_type": "code",
      "source": [],
      "metadata": {
        "id": "z7bpSV192m3Z"
      },
      "execution_count": null,
      "outputs": []
    },
    {
      "cell_type": "code",
      "source": [],
      "metadata": {
        "id": "tPi2UQTo6ylA"
      },
      "execution_count": null,
      "outputs": []
    }
  ]
}